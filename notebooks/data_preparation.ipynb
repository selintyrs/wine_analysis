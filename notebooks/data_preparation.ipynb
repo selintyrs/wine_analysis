{
 "cells": [
  {
   "cell_type": "markdown",
   "metadata": {},
   "source": [
    "# Importing and preparing wine data"
   ]
  },
  {
   "cell_type": "markdown",
   "metadata": {},
   "source": [
    "## Libraries and settings"
   ]
  },
  {
   "cell_type": "code",
   "execution_count": 3,
   "metadata": {},
   "outputs": [
    {
     "name": "stdout",
     "output_type": "stream",
     "text": [
      "/workspaces/wine_analysis/notebooks\n"
     ]
    }
   ],
   "source": [
    "# Libraries\n",
    "import os\n",
    "import re\n",
    "import time\n",
    "import fnmatch\n",
    "import datetime\n",
    "import numpy as np\n",
    "import pandas as pd\n",
    "\n",
    "\n",
    "# Ignore warnings\n",
    "import warnings\n",
    "warnings.filterwarnings(\"ignore\")\n",
    "\n",
    "# Get current working directory\n",
    "print(os.getcwd())"
   ]
  },
  {
   "cell_type": "markdown",
   "metadata": {},
   "source": [
    "## Importing data"
   ]
  },
  {
   "cell_type": "code",
   "execution_count": 5,
   "metadata": {},
   "outputs": [
    {
     "data": {
      "text/html": [
       "<div>\n",
       "<style scoped>\n",
       "    .dataframe tbody tr th:only-of-type {\n",
       "        vertical-align: middle;\n",
       "    }\n",
       "\n",
       "    .dataframe tbody tr th {\n",
       "        vertical-align: top;\n",
       "    }\n",
       "\n",
       "    .dataframe thead th {\n",
       "        text-align: right;\n",
       "    }\n",
       "</style>\n",
       "<table border=\"1\" class=\"dataframe\">\n",
       "  <thead>\n",
       "    <tr style=\"text-align: right;\">\n",
       "      <th></th>\n",
       "      <th>web-scraper-order</th>\n",
       "      <th>web-scraper-start-url</th>\n",
       "      <th>name_raw</th>\n",
       "      <th>price_raw</th>\n",
       "      <th>country_raw</th>\n",
       "      <th>quantity_raw</th>\n",
       "      <th>value_raw</th>\n",
       "    </tr>\n",
       "  </thead>\n",
       "  <tbody>\n",
       "    <tr>\n",
       "      <th>0</th>\n",
       "      <td>1734709733-1</td>\n",
       "      <td>https://www.coop.ch/de/weine/alle-weine/c/m_25...</td>\n",
       "      <td>Naturaplan Bio-Prosecco DOC Raphael Dal Bo, ex...</td>\n",
       "      <td>11.95</td>\n",
       "      <td>Italien</td>\n",
       "      <td>75cl</td>\n",
       "      <td>1.59/10cl</td>\n",
       "    </tr>\n",
       "    <tr>\n",
       "      <th>1</th>\n",
       "      <td>1734709733-2</td>\n",
       "      <td>https://www.coop.ch/de/weine/alle-weine/c/m_25...</td>\n",
       "      <td>Rimuss Party Traubensaft weiss, alkoholfrei</td>\n",
       "      <td>4.20</td>\n",
       "      <td>Rimuss</td>\n",
       "      <td>70cl</td>\n",
       "      <td>0.60/10cl</td>\n",
       "    </tr>\n",
       "    <tr>\n",
       "      <th>2</th>\n",
       "      <td>1734709733-3</td>\n",
       "      <td>https://www.coop.ch/de/weine/alle-weine/c/m_25...</td>\n",
       "      <td>Zürich AOC Staatsschreiber Cuvée Blanc Prestige</td>\n",
       "      <td>12.70</td>\n",
       "      <td>Schweiz, 2023</td>\n",
       "      <td>75cl</td>\n",
       "      <td>1.69/10cl</td>\n",
       "    </tr>\n",
       "    <tr>\n",
       "      <th>3</th>\n",
       "      <td>1734709733-4</td>\n",
       "      <td>https://www.coop.ch/de/weine/alle-weine/c/m_25...</td>\n",
       "      <td>Prosecco Superiore di Valdobbiadene Conegliano...</td>\n",
       "      <td>10.95</td>\n",
       "      <td>Italien</td>\n",
       "      <td>75cl</td>\n",
       "      <td>1.46/10cl</td>\n",
       "    </tr>\n",
       "    <tr>\n",
       "      <th>4</th>\n",
       "      <td>1734709733-5</td>\n",
       "      <td>https://www.coop.ch/de/weine/alle-weine/c/m_25...</td>\n",
       "      <td>Aigle Les Murailles Chablais AOC H. Badoux</td>\n",
       "      <td>22.50</td>\n",
       "      <td>Schweiz, 2023</td>\n",
       "      <td>70cl</td>\n",
       "      <td>3.21/10cl</td>\n",
       "    </tr>\n",
       "  </tbody>\n",
       "</table>\n",
       "</div>"
      ],
      "text/plain": [
       "  web-scraper-order                              web-scraper-start-url  \\\n",
       "0      1734709733-1  https://www.coop.ch/de/weine/alle-weine/c/m_25...   \n",
       "1      1734709733-2  https://www.coop.ch/de/weine/alle-weine/c/m_25...   \n",
       "2      1734709733-3  https://www.coop.ch/de/weine/alle-weine/c/m_25...   \n",
       "3      1734709733-4  https://www.coop.ch/de/weine/alle-weine/c/m_25...   \n",
       "4      1734709733-5  https://www.coop.ch/de/weine/alle-weine/c/m_25...   \n",
       "\n",
       "                                            name_raw  price_raw  \\\n",
       "0  Naturaplan Bio-Prosecco DOC Raphael Dal Bo, ex...      11.95   \n",
       "1        Rimuss Party Traubensaft weiss, alkoholfrei       4.20   \n",
       "2    Zürich AOC Staatsschreiber Cuvée Blanc Prestige      12.70   \n",
       "3  Prosecco Superiore di Valdobbiadene Conegliano...      10.95   \n",
       "4         Aigle Les Murailles Chablais AOC H. Badoux      22.50   \n",
       "\n",
       "     country_raw quantity_raw  value_raw  \n",
       "0        Italien         75cl  1.59/10cl  \n",
       "1         Rimuss         70cl  0.60/10cl  \n",
       "2  Schweiz, 2023         75cl  1.69/10cl  \n",
       "3        Italien         75cl  1.46/10cl  \n",
       "4  Schweiz, 2023         70cl  3.21/10cl  "
      ]
     },
     "execution_count": 5,
     "metadata": {},
     "output_type": "execute_result"
    }
   ],
   "source": [
    "# Wechsle ins Hauptverzeichnis\n",
    "os.chdir('../')  # Zurück aus dem \"notebooks\"-Ordner\n",
    "\n",
    "# Read the data to a pandas data frame\n",
    "df = pd.read_csv('./data/raw/wine.csv', sep=',', encoding='utf-8')\n",
    "\n",
    "# Show first records of data frame\n",
    "df.head()"
   ]
  },
  {
   "cell_type": "markdown",
   "metadata": {},
   "source": [
    "## Count number of rows and columns in the data frame"
   ]
  },
  {
   "cell_type": "code",
   "execution_count": 21,
   "metadata": {},
   "outputs": [
    {
     "name": "stdout",
     "output_type": "stream",
     "text": [
      "Dimension: (580, 7)\n",
      "Number of rows: 580\n",
      "Number of columns: 7\n"
     ]
    }
   ],
   "source": [
    "# Dimension (rows, columns)\n",
    "print('Dimension:', df.shape)\n",
    "\n",
    "# Number of rows\n",
    "print('Number of rows:', df.shape[0])\n",
    "\n",
    "# Number of columns\n",
    "print('Number of columns:', df.shape[1])"
   ]
  },
  {
   "cell_type": "markdown",
   "metadata": {},
   "source": [
    "## Get data types (raw-format from web scraping)"
   ]
  },
  {
   "cell_type": "code",
   "execution_count": 22,
   "metadata": {},
   "outputs": [
    {
     "data": {
      "text/plain": [
       "web-scraper-order         object\n",
       "web-scraper-start-url     object\n",
       "name_raw                  object\n",
       "price_raw                float64\n",
       "country_raw               object\n",
       "quantity_raw              object\n",
       "value_raw                 object\n",
       "dtype: object"
      ]
     },
     "execution_count": 22,
     "metadata": {},
     "output_type": "execute_result"
    }
   ],
   "source": [
    "# Get data types (note that in pandas, a string is referred to as 'object')\n",
    "df.dtypes"
   ]
  },
  {
   "cell_type": "markdown",
   "metadata": {},
   "source": [
    "## Extract and save relevant information from raw data using regular expressions (regex)"
   ]
  },
  {
   "cell_type": "markdown",
   "metadata": {},
   "source": [
    "### Extract country"
   ]
  },
  {
   "cell_type": "code",
   "execution_count": 23,
   "metadata": {},
   "outputs": [
    {
     "name": "stdout",
     "output_type": "stream",
     "text": [
      "     country_raw  country\n",
      "0        Italien  Italien\n",
      "1         Rimuss   Rimuss\n",
      "2  Schweiz, 2023  Schweiz\n",
      "3        Italien  Italien\n",
      "4  Schweiz, 2023  Schweiz\n"
     ]
    }
   ],
   "source": [
    "\n",
    "\n",
    "# Function to extract the country from 'country_raw'\n",
    "def extract_country(country_raw):\n",
    "    if pd.isna(country_raw):  # Handle NaN values\n",
    "        return None\n",
    "    match = re.match(r'^[^,]+', country_raw)  # Matches everything before the first comma\n",
    "    return match.group(0) if match else None\n",
    "\n",
    "# Apply the extraction function to the 'country_raw' column\n",
    "df['country'] = df['country_raw'].apply(extract_country)\n",
    "\n",
    "# Check the results\n",
    "print(df[['country_raw', 'country']].head())\n"
   ]
  },
  {
   "cell_type": "markdown",
   "metadata": {},
   "source": [
    "### Get data types of all variables including the new ones"
   ]
  },
  {
   "cell_type": "code",
   "execution_count": 24,
   "metadata": {},
   "outputs": [
    {
     "data": {
      "text/plain": [
       "web-scraper-order         object\n",
       "web-scraper-start-url     object\n",
       "name_raw                  object\n",
       "price_raw                float64\n",
       "country_raw               object\n",
       "quantity_raw              object\n",
       "value_raw                 object\n",
       "country                   object\n",
       "dtype: object"
      ]
     },
     "execution_count": 24,
     "metadata": {},
     "output_type": "execute_result"
    }
   ],
   "source": [
    "df.dtypes"
   ]
  },
  {
   "cell_type": "markdown",
   "metadata": {},
   "source": [
    "## Count and identify missing values (if any)"
   ]
  },
  {
   "cell_type": "code",
   "execution_count": 25,
   "metadata": {},
   "outputs": [
    {
     "name": "stdout",
     "output_type": "stream",
     "text": [
      "web-scraper-order        0\n",
      "web-scraper-start-url    0\n",
      "name_raw                 0\n",
      "price_raw                0\n",
      "country_raw              0\n",
      "quantity_raw             0\n",
      "value_raw                0\n",
      "country                  0\n",
      "dtype: int64\n"
     ]
    },
    {
     "data": {
      "text/html": [
       "<div>\n",
       "<style scoped>\n",
       "    .dataframe tbody tr th:only-of-type {\n",
       "        vertical-align: middle;\n",
       "    }\n",
       "\n",
       "    .dataframe tbody tr th {\n",
       "        vertical-align: top;\n",
       "    }\n",
       "\n",
       "    .dataframe thead th {\n",
       "        text-align: right;\n",
       "    }\n",
       "</style>\n",
       "<table border=\"1\" class=\"dataframe\">\n",
       "  <thead>\n",
       "    <tr style=\"text-align: right;\">\n",
       "      <th></th>\n",
       "      <th>web-scraper-order</th>\n",
       "      <th>web-scraper-start-url</th>\n",
       "      <th>name_raw</th>\n",
       "      <th>price_raw</th>\n",
       "      <th>country_raw</th>\n",
       "      <th>quantity_raw</th>\n",
       "      <th>value_raw</th>\n",
       "      <th>country</th>\n",
       "    </tr>\n",
       "  </thead>\n",
       "  <tbody>\n",
       "  </tbody>\n",
       "</table>\n",
       "</div>"
      ],
      "text/plain": [
       "Empty DataFrame\n",
       "Columns: [web-scraper-order, web-scraper-start-url, name_raw, price_raw, country_raw, quantity_raw, value_raw, country]\n",
       "Index: []"
      ]
     },
     "execution_count": 25,
     "metadata": {},
     "output_type": "execute_result"
    }
   ],
   "source": [
    "# Count missing values\n",
    "print(pd.isna(df).sum())\n",
    "\n",
    "# Identify rows with missing values\n",
    "df[df.isna().any(axis=1)].head()"
   ]
  },
  {
   "cell_type": "markdown",
   "metadata": {},
   "source": [
    "## Count and identify duplicated values (if any)"
   ]
  },
  {
   "cell_type": "code",
   "execution_count": 26,
   "metadata": {},
   "outputs": [
    {
     "name": "stdout",
     "output_type": "stream",
     "text": [
      "0\n"
     ]
    },
    {
     "data": {
      "text/html": [
       "<div>\n",
       "<style scoped>\n",
       "    .dataframe tbody tr th:only-of-type {\n",
       "        vertical-align: middle;\n",
       "    }\n",
       "\n",
       "    .dataframe tbody tr th {\n",
       "        vertical-align: top;\n",
       "    }\n",
       "\n",
       "    .dataframe thead th {\n",
       "        text-align: right;\n",
       "    }\n",
       "</style>\n",
       "<table border=\"1\" class=\"dataframe\">\n",
       "  <thead>\n",
       "    <tr style=\"text-align: right;\">\n",
       "      <th></th>\n",
       "      <th>web-scraper-order</th>\n",
       "      <th>web-scraper-start-url</th>\n",
       "      <th>name_raw</th>\n",
       "      <th>price_raw</th>\n",
       "      <th>country_raw</th>\n",
       "      <th>quantity_raw</th>\n",
       "      <th>value_raw</th>\n",
       "      <th>country</th>\n",
       "    </tr>\n",
       "  </thead>\n",
       "  <tbody>\n",
       "  </tbody>\n",
       "</table>\n",
       "</div>"
      ],
      "text/plain": [
       "Empty DataFrame\n",
       "Columns: [web-scraper-order, web-scraper-start-url, name_raw, price_raw, country_raw, quantity_raw, value_raw, country]\n",
       "Index: []"
      ]
     },
     "execution_count": 26,
     "metadata": {},
     "output_type": "execute_result"
    }
   ],
   "source": [
    "# Count duplicated values\n",
    "print(df.duplicated().sum())\n",
    "\n",
    "# Identify rows with duplicated values, e.g.:\n",
    "df[df[['web-scraper-order', 'name_raw']].duplicated()]"
   ]
  },
  {
   "cell_type": "markdown",
   "metadata": {},
   "source": [
    "## Create additional variables from the wine's name"
   ]
  },
  {
   "cell_type": "markdown",
   "metadata": {},
   "source": [
    "### Change strings in 'name_raw' to uppercase "
   ]
  },
  {
   "cell_type": "code",
   "execution_count": 27,
   "metadata": {},
   "outputs": [
    {
     "name": "stdout",
     "output_type": "stream",
     "text": [
      "0    NATURAPLAN BIO-PROSECCO DOC RAPHAEL DAL BO, EX...\n",
      "1          RIMUSS PARTY TRAUBENSAFT WEISS, ALKOHOLFREI\n",
      "2      ZÜRICH AOC STAATSSCHREIBER CUVÉE BLANC PRESTIGE\n",
      "3    PROSECCO SUPERIORE DI VALDOBBIADENE CONEGLIANO...\n",
      "4           AIGLE LES MURAILLES CHABLAIS AOC H. BADOUX\n",
      "5                   CHAMPAGNE AOC CHARLES BERTIN, BRUT\n",
      "6               PROSECCO DOC VIGNE DEI DOGI, EXTRA DRY\n",
      "7                  ZÜRICH AOC FEDERWEISSER STAUFFACHER\n",
      "8                 BLU SECCO DOSE VINO FRIZZANTE 6X20CL\n",
      "9                     TOSCANA IGT ROSSO VILLA ANTINORI\n",
      "Name: name_raw, dtype: object \n",
      "\n"
     ]
    }
   ],
   "source": [
    "# Change strings to uppercase \n",
    "df['name_raw'] = df['name_raw'].str.upper()\n",
    "print(df['name_raw'].head(10), '\\n')"
   ]
  },
  {
   "cell_type": "markdown",
   "metadata": {},
   "source": [
    "### Calculate lenght of strings in 'name_raw'"
   ]
  },
  {
   "cell_type": "code",
   "execution_count": 28,
   "metadata": {},
   "outputs": [
    {
     "name": "stdout",
     "output_type": "stream",
     "text": [
      "NATURAPLAN BIO-PROSECCO DOC RAPHAEL DAL BO, EXTRA DRY\n",
      "0      53\n",
      "1      43\n",
      "2      47\n",
      "3      79\n",
      "4      42\n",
      "       ..\n",
      "575    36\n",
      "576    49\n",
      "577    35\n",
      "578    56\n",
      "579    48\n",
      "Name: name_raw_len, Length: 580, dtype: int64 \n",
      "\n"
     ]
    }
   ],
   "source": [
    "# Show first item of variable 'name_raw'\n",
    "print(df['name_raw'][0])\n",
    "\n",
    "# Lenght of the strings in 'name_raw'\n",
    "df['name_raw_len'] = df['name_raw'].str.len()\n",
    "print(df['name_raw_len'], '\\n')"
   ]
  },
  {
   "cell_type": "markdown",
   "metadata": {},
   "source": [
    "### Create new binary (0/1) variable 'bio' from the name"
   ]
  },
  {
   "cell_type": "code",
   "execution_count": 29,
   "metadata": {},
   "outputs": [
    {
     "name": "stdout",
     "output_type": "stream",
     "text": [
      "40\n"
     ]
    },
    {
     "data": {
      "text/html": [
       "<div>\n",
       "<style scoped>\n",
       "    .dataframe tbody tr th:only-of-type {\n",
       "        vertical-align: middle;\n",
       "    }\n",
       "\n",
       "    .dataframe tbody tr th {\n",
       "        vertical-align: top;\n",
       "    }\n",
       "\n",
       "    .dataframe thead th {\n",
       "        text-align: right;\n",
       "    }\n",
       "</style>\n",
       "<table border=\"1\" class=\"dataframe\">\n",
       "  <thead>\n",
       "    <tr style=\"text-align: right;\">\n",
       "      <th></th>\n",
       "      <th>name_raw</th>\n",
       "      <th>country_raw</th>\n",
       "      <th>bio</th>\n",
       "    </tr>\n",
       "  </thead>\n",
       "  <tbody>\n",
       "    <tr>\n",
       "      <th>0</th>\n",
       "      <td>NATURAPLAN BIO-PROSECCO DOC RAPHAEL DAL BO, EX...</td>\n",
       "      <td>Italien</td>\n",
       "      <td>1</td>\n",
       "    </tr>\n",
       "    <tr>\n",
       "      <th>1</th>\n",
       "      <td>RIMUSS PARTY TRAUBENSAFT WEISS, ALKOHOLFREI</td>\n",
       "      <td>Rimuss</td>\n",
       "      <td>0</td>\n",
       "    </tr>\n",
       "    <tr>\n",
       "      <th>2</th>\n",
       "      <td>ZÜRICH AOC STAATSSCHREIBER CUVÉE BLANC PRESTIGE</td>\n",
       "      <td>Schweiz, 2023</td>\n",
       "      <td>0</td>\n",
       "    </tr>\n",
       "    <tr>\n",
       "      <th>3</th>\n",
       "      <td>PROSECCO SUPERIORE DI VALDOBBIADENE CONEGLIANO...</td>\n",
       "      <td>Italien</td>\n",
       "      <td>0</td>\n",
       "    </tr>\n",
       "    <tr>\n",
       "      <th>4</th>\n",
       "      <td>AIGLE LES MURAILLES CHABLAIS AOC H. BADOUX</td>\n",
       "      <td>Schweiz, 2023</td>\n",
       "      <td>0</td>\n",
       "    </tr>\n",
       "    <tr>\n",
       "      <th>...</th>\n",
       "      <td>...</td>\n",
       "      <td>...</td>\n",
       "      <td>...</td>\n",
       "    </tr>\n",
       "    <tr>\n",
       "      <th>575</th>\n",
       "      <td>BOURGOGNE AOC CHARDONNAY LOUIS JADOT</td>\n",
       "      <td>Frankreich, 2022</td>\n",
       "      <td>0</td>\n",
       "    </tr>\n",
       "    <tr>\n",
       "      <th>576</th>\n",
       "      <td>VALAIS AOC ROSÉ OEIL DE PERDRIX LE ROSEL 6X  75CL</td>\n",
       "      <td>Schweiz, 2023</td>\n",
       "      <td>0</td>\n",
       "    </tr>\n",
       "    <tr>\n",
       "      <th>577</th>\n",
       "      <td>LEGARIS CRIANZA RIBERA DEL DUERO DO</td>\n",
       "      <td>Spanien, 2021</td>\n",
       "      <td>0</td>\n",
       "    </tr>\n",
       "    <tr>\n",
       "      <th>578</th>\n",
       "      <td>RIPASSO DELLA VALPOLICELLA DOC SUPERIORE VIGNE...</td>\n",
       "      <td>Italien, 2022</td>\n",
       "      <td>0</td>\n",
       "    </tr>\n",
       "    <tr>\n",
       "      <th>579</th>\n",
       "      <td>VINO NOBILE DI MONTEPULCIANO DOCG TENUTA TREROSE</td>\n",
       "      <td>Italien, 2020</td>\n",
       "      <td>0</td>\n",
       "    </tr>\n",
       "  </tbody>\n",
       "</table>\n",
       "<p>580 rows × 3 columns</p>\n",
       "</div>"
      ],
      "text/plain": [
       "                                              name_raw       country_raw  bio\n",
       "0    NATURAPLAN BIO-PROSECCO DOC RAPHAEL DAL BO, EX...           Italien    1\n",
       "1          RIMUSS PARTY TRAUBENSAFT WEISS, ALKOHOLFREI            Rimuss    0\n",
       "2      ZÜRICH AOC STAATSSCHREIBER CUVÉE BLANC PRESTIGE     Schweiz, 2023    0\n",
       "3    PROSECCO SUPERIORE DI VALDOBBIADENE CONEGLIANO...           Italien    0\n",
       "4           AIGLE LES MURAILLES CHABLAIS AOC H. BADOUX     Schweiz, 2023    0\n",
       "..                                                 ...               ...  ...\n",
       "575               BOURGOGNE AOC CHARDONNAY LOUIS JADOT  Frankreich, 2022    0\n",
       "576  VALAIS AOC ROSÉ OEIL DE PERDRIX LE ROSEL 6X  75CL     Schweiz, 2023    0\n",
       "577                LEGARIS CRIANZA RIBERA DEL DUERO DO     Spanien, 2021    0\n",
       "578  RIPASSO DELLA VALPOLICELLA DOC SUPERIORE VIGNE...     Italien, 2022    0\n",
       "579   VINO NOBILE DI MONTEPULCIANO DOCG TENUTA TREROSE     Italien, 2020    0\n",
       "\n",
       "[580 rows x 3 columns]"
      ]
     },
     "execution_count": 29,
     "metadata": {},
     "output_type": "execute_result"
    }
   ],
   "source": [
    "# Create a pattern which can be used to search the variable 'name_raw'\n",
    "pattern = 'BIO|NATURAPLAN'\n",
    "\n",
    "# Create new variable 'luxurious' as binary dummy (0/1) variable\n",
    "df['bio'] = df['name_raw'].str.contains(pat = pattern).astype(int)\n",
    "print(df['bio'].sum())\n",
    "\n",
    "# Show values\n",
    "df[['name_raw', 'country_raw','bio']]"
   ]
  },
  {
   "cell_type": "markdown",
   "metadata": {},
   "source": [
    "### Create new binary (0/1) variable 'non_alcoholic' from the name"
   ]
  },
  {
   "cell_type": "code",
   "execution_count": 30,
   "metadata": {},
   "outputs": [
    {
     "name": "stdout",
     "output_type": "stream",
     "text": [
      "40\n"
     ]
    },
    {
     "data": {
      "text/html": [
       "<div>\n",
       "<style scoped>\n",
       "    .dataframe tbody tr th:only-of-type {\n",
       "        vertical-align: middle;\n",
       "    }\n",
       "\n",
       "    .dataframe tbody tr th {\n",
       "        vertical-align: top;\n",
       "    }\n",
       "\n",
       "    .dataframe thead th {\n",
       "        text-align: right;\n",
       "    }\n",
       "</style>\n",
       "<table border=\"1\" class=\"dataframe\">\n",
       "  <thead>\n",
       "    <tr style=\"text-align: right;\">\n",
       "      <th></th>\n",
       "      <th>name_raw</th>\n",
       "      <th>non_alcoholic</th>\n",
       "    </tr>\n",
       "  </thead>\n",
       "  <tbody>\n",
       "    <tr>\n",
       "      <th>0</th>\n",
       "      <td>NATURAPLAN BIO-PROSECCO DOC RAPHAEL DAL BO, EX...</td>\n",
       "      <td>0</td>\n",
       "    </tr>\n",
       "    <tr>\n",
       "      <th>1</th>\n",
       "      <td>RIMUSS PARTY TRAUBENSAFT WEISS, ALKOHOLFREI</td>\n",
       "      <td>1</td>\n",
       "    </tr>\n",
       "    <tr>\n",
       "      <th>2</th>\n",
       "      <td>ZÜRICH AOC STAATSSCHREIBER CUVÉE BLANC PRESTIGE</td>\n",
       "      <td>0</td>\n",
       "    </tr>\n",
       "    <tr>\n",
       "      <th>3</th>\n",
       "      <td>PROSECCO SUPERIORE DI VALDOBBIADENE CONEGLIANO...</td>\n",
       "      <td>0</td>\n",
       "    </tr>\n",
       "    <tr>\n",
       "      <th>4</th>\n",
       "      <td>AIGLE LES MURAILLES CHABLAIS AOC H. BADOUX</td>\n",
       "      <td>0</td>\n",
       "    </tr>\n",
       "    <tr>\n",
       "      <th>...</th>\n",
       "      <td>...</td>\n",
       "      <td>...</td>\n",
       "    </tr>\n",
       "    <tr>\n",
       "      <th>575</th>\n",
       "      <td>BOURGOGNE AOC CHARDONNAY LOUIS JADOT</td>\n",
       "      <td>0</td>\n",
       "    </tr>\n",
       "    <tr>\n",
       "      <th>576</th>\n",
       "      <td>VALAIS AOC ROSÉ OEIL DE PERDRIX LE ROSEL 6X  75CL</td>\n",
       "      <td>0</td>\n",
       "    </tr>\n",
       "    <tr>\n",
       "      <th>577</th>\n",
       "      <td>LEGARIS CRIANZA RIBERA DEL DUERO DO</td>\n",
       "      <td>0</td>\n",
       "    </tr>\n",
       "    <tr>\n",
       "      <th>578</th>\n",
       "      <td>RIPASSO DELLA VALPOLICELLA DOC SUPERIORE VIGNE...</td>\n",
       "      <td>0</td>\n",
       "    </tr>\n",
       "    <tr>\n",
       "      <th>579</th>\n",
       "      <td>VINO NOBILE DI MONTEPULCIANO DOCG TENUTA TREROSE</td>\n",
       "      <td>0</td>\n",
       "    </tr>\n",
       "  </tbody>\n",
       "</table>\n",
       "<p>580 rows × 2 columns</p>\n",
       "</div>"
      ],
      "text/plain": [
       "                                              name_raw  non_alcoholic\n",
       "0    NATURAPLAN BIO-PROSECCO DOC RAPHAEL DAL BO, EX...              0\n",
       "1          RIMUSS PARTY TRAUBENSAFT WEISS, ALKOHOLFREI              1\n",
       "2      ZÜRICH AOC STAATSSCHREIBER CUVÉE BLANC PRESTIGE              0\n",
       "3    PROSECCO SUPERIORE DI VALDOBBIADENE CONEGLIANO...              0\n",
       "4           AIGLE LES MURAILLES CHABLAIS AOC H. BADOUX              0\n",
       "..                                                 ...            ...\n",
       "575               BOURGOGNE AOC CHARDONNAY LOUIS JADOT              0\n",
       "576  VALAIS AOC ROSÉ OEIL DE PERDRIX LE ROSEL 6X  75CL              0\n",
       "577                LEGARIS CRIANZA RIBERA DEL DUERO DO              0\n",
       "578  RIPASSO DELLA VALPOLICELLA DOC SUPERIORE VIGNE...              0\n",
       "579   VINO NOBILE DI MONTEPULCIANO DOCG TENUTA TREROSE              0\n",
       "\n",
       "[580 rows x 2 columns]"
      ]
     },
     "execution_count": 30,
     "metadata": {},
     "output_type": "execute_result"
    }
   ],
   "source": [
    "# Create a pattern which can be used to search the variable 'name_raw'\n",
    "pattern = 'ALKOHOLFREI|OHNE ALKOHOL'\n",
    "\n",
    "# Create new variable 'luxurious' as binary dummy (0/1) variable\n",
    "df['non_alcoholic'] = df['name_raw'].str.contains(pat = pattern).astype(int)\n",
    "print(df['non_alcoholic'].sum())\n",
    "\n",
    "# Show values\n",
    "df[['name_raw','non_alcoholic']]"
   ]
  },
  {
   "cell_type": "markdown",
   "metadata": {},
   "source": [
    "### Create new binary (0/1) variable 'premium' from the name"
   ]
  },
  {
   "cell_type": "code",
   "execution_count": 31,
   "metadata": {},
   "outputs": [
    {
     "name": "stdout",
     "output_type": "stream",
     "text": [
      "80\n"
     ]
    },
    {
     "data": {
      "text/html": [
       "<div>\n",
       "<style scoped>\n",
       "    .dataframe tbody tr th:only-of-type {\n",
       "        vertical-align: middle;\n",
       "    }\n",
       "\n",
       "    .dataframe tbody tr th {\n",
       "        vertical-align: top;\n",
       "    }\n",
       "\n",
       "    .dataframe thead th {\n",
       "        text-align: right;\n",
       "    }\n",
       "</style>\n",
       "<table border=\"1\" class=\"dataframe\">\n",
       "  <thead>\n",
       "    <tr style=\"text-align: right;\">\n",
       "      <th></th>\n",
       "      <th>name_raw</th>\n",
       "      <th>premium</th>\n",
       "    </tr>\n",
       "  </thead>\n",
       "  <tbody>\n",
       "    <tr>\n",
       "      <th>0</th>\n",
       "      <td>NATURAPLAN BIO-PROSECCO DOC RAPHAEL DAL BO, EX...</td>\n",
       "      <td>0</td>\n",
       "    </tr>\n",
       "    <tr>\n",
       "      <th>1</th>\n",
       "      <td>RIMUSS PARTY TRAUBENSAFT WEISS, ALKOHOLFREI</td>\n",
       "      <td>0</td>\n",
       "    </tr>\n",
       "    <tr>\n",
       "      <th>2</th>\n",
       "      <td>ZÜRICH AOC STAATSSCHREIBER CUVÉE BLANC PRESTIGE</td>\n",
       "      <td>1</td>\n",
       "    </tr>\n",
       "    <tr>\n",
       "      <th>3</th>\n",
       "      <td>PROSECCO SUPERIORE DI VALDOBBIADENE CONEGLIANO...</td>\n",
       "      <td>1</td>\n",
       "    </tr>\n",
       "    <tr>\n",
       "      <th>4</th>\n",
       "      <td>AIGLE LES MURAILLES CHABLAIS AOC H. BADOUX</td>\n",
       "      <td>0</td>\n",
       "    </tr>\n",
       "    <tr>\n",
       "      <th>...</th>\n",
       "      <td>...</td>\n",
       "      <td>...</td>\n",
       "    </tr>\n",
       "    <tr>\n",
       "      <th>575</th>\n",
       "      <td>BOURGOGNE AOC CHARDONNAY LOUIS JADOT</td>\n",
       "      <td>0</td>\n",
       "    </tr>\n",
       "    <tr>\n",
       "      <th>576</th>\n",
       "      <td>VALAIS AOC ROSÉ OEIL DE PERDRIX LE ROSEL 6X  75CL</td>\n",
       "      <td>0</td>\n",
       "    </tr>\n",
       "    <tr>\n",
       "      <th>577</th>\n",
       "      <td>LEGARIS CRIANZA RIBERA DEL DUERO DO</td>\n",
       "      <td>0</td>\n",
       "    </tr>\n",
       "    <tr>\n",
       "      <th>578</th>\n",
       "      <td>RIPASSO DELLA VALPOLICELLA DOC SUPERIORE VIGNE...</td>\n",
       "      <td>1</td>\n",
       "    </tr>\n",
       "    <tr>\n",
       "      <th>579</th>\n",
       "      <td>VINO NOBILE DI MONTEPULCIANO DOCG TENUTA TREROSE</td>\n",
       "      <td>0</td>\n",
       "    </tr>\n",
       "  </tbody>\n",
       "</table>\n",
       "<p>580 rows × 2 columns</p>\n",
       "</div>"
      ],
      "text/plain": [
       "                                              name_raw  premium\n",
       "0    NATURAPLAN BIO-PROSECCO DOC RAPHAEL DAL BO, EX...        0\n",
       "1          RIMUSS PARTY TRAUBENSAFT WEISS, ALKOHOLFREI        0\n",
       "2      ZÜRICH AOC STAATSSCHREIBER CUVÉE BLANC PRESTIGE        1\n",
       "3    PROSECCO SUPERIORE DI VALDOBBIADENE CONEGLIANO...        1\n",
       "4           AIGLE LES MURAILLES CHABLAIS AOC H. BADOUX        0\n",
       "..                                                 ...      ...\n",
       "575               BOURGOGNE AOC CHARDONNAY LOUIS JADOT        0\n",
       "576  VALAIS AOC ROSÉ OEIL DE PERDRIX LE ROSEL 6X  75CL        0\n",
       "577                LEGARIS CRIANZA RIBERA DEL DUERO DO        0\n",
       "578  RIPASSO DELLA VALPOLICELLA DOC SUPERIORE VIGNE...        1\n",
       "579   VINO NOBILE DI MONTEPULCIANO DOCG TENUTA TREROSE        0\n",
       "\n",
       "[580 rows x 2 columns]"
      ]
     },
     "execution_count": 31,
     "metadata": {},
     "output_type": "execute_result"
    }
   ],
   "source": [
    "# Create a pattern which can be used to search the variable 'name_raw'\n",
    "pattern = 'PRESTIGE|EXKLUSIV|SUPERIORE|GRAND CRU|PREMIUM'\n",
    "\n",
    "# Create new variable 'luxurious' as binary dummy (0/1) variable\n",
    "df['premium'] = df['name_raw'].str.contains(pat = pattern).astype(int)\n",
    "print(df['premium'].sum())\n",
    "\n",
    "# Show values\n",
    "df[['name_raw','premium']]"
   ]
  },
  {
   "cell_type": "markdown",
   "metadata": {},
   "source": [
    "### Create new categorical variable 'Wine Categories' based on name_raw"
   ]
  },
  {
   "cell_type": "code",
   "execution_count": 32,
   "metadata": {},
   "outputs": [
    {
     "name": "stdout",
     "output_type": "stream",
     "text": [
      "wine_category\n",
      "SCHAUMWEIN       220\n",
      "UNCATEGORIZED    160\n",
      "WEISSWEIN        100\n",
      "ROTWEIN           40\n",
      "GLÜHWEIN          40\n",
      "ROSÉWEIN          20\n",
      "Name: count, dtype: int64\n"
     ]
    },
    {
     "data": {
      "text/html": [
       "<div>\n",
       "<style scoped>\n",
       "    .dataframe tbody tr th:only-of-type {\n",
       "        vertical-align: middle;\n",
       "    }\n",
       "\n",
       "    .dataframe tbody tr th {\n",
       "        vertical-align: top;\n",
       "    }\n",
       "\n",
       "    .dataframe thead th {\n",
       "        text-align: right;\n",
       "    }\n",
       "</style>\n",
       "<table border=\"1\" class=\"dataframe\">\n",
       "  <thead>\n",
       "    <tr style=\"text-align: right;\">\n",
       "      <th></th>\n",
       "      <th>name_raw</th>\n",
       "      <th>wine_category</th>\n",
       "    </tr>\n",
       "  </thead>\n",
       "  <tbody>\n",
       "    <tr>\n",
       "      <th>0</th>\n",
       "      <td>NATURAPLAN BIO-PROSECCO DOC RAPHAEL DAL BO, EX...</td>\n",
       "      <td>SCHAUMWEIN</td>\n",
       "    </tr>\n",
       "    <tr>\n",
       "      <th>1</th>\n",
       "      <td>RIMUSS PARTY TRAUBENSAFT WEISS, ALKOHOLFREI</td>\n",
       "      <td>SCHAUMWEIN</td>\n",
       "    </tr>\n",
       "    <tr>\n",
       "      <th>2</th>\n",
       "      <td>ZÜRICH AOC STAATSSCHREIBER CUVÉE BLANC PRESTIGE</td>\n",
       "      <td>WEISSWEIN</td>\n",
       "    </tr>\n",
       "    <tr>\n",
       "      <th>3</th>\n",
       "      <td>PROSECCO SUPERIORE DI VALDOBBIADENE CONEGLIANO...</td>\n",
       "      <td>SCHAUMWEIN</td>\n",
       "    </tr>\n",
       "    <tr>\n",
       "      <th>4</th>\n",
       "      <td>AIGLE LES MURAILLES CHABLAIS AOC H. BADOUX</td>\n",
       "      <td>UNCATEGORIZED</td>\n",
       "    </tr>\n",
       "  </tbody>\n",
       "</table>\n",
       "</div>"
      ],
      "text/plain": [
       "                                            name_raw  wine_category\n",
       "0  NATURAPLAN BIO-PROSECCO DOC RAPHAEL DAL BO, EX...     SCHAUMWEIN\n",
       "1        RIMUSS PARTY TRAUBENSAFT WEISS, ALKOHOLFREI     SCHAUMWEIN\n",
       "2    ZÜRICH AOC STAATSSCHREIBER CUVÉE BLANC PRESTIGE      WEISSWEIN\n",
       "3  PROSECCO SUPERIORE DI VALDOBBIADENE CONEGLIANO...     SCHAUMWEIN\n",
       "4         AIGLE LES MURAILLES CHABLAIS AOC H. BADOUX  UNCATEGORIZED"
      ]
     },
     "execution_count": 32,
     "metadata": {},
     "output_type": "execute_result"
    }
   ],
   "source": [
    "# Define patterns for each category in uppercase\n",
    "patterns = {\n",
    "    'ROTWEIN': 'ROT|ROSSO|CABERNET|MERLOT|PINOT NOIR|SHIRAZ|MALBEC|ZINFANDEL|TEMPRANILLO|BAROLO|RIOJA|CHIANTI|NERO D\\'AVOLA|SANGIOVESE|GRENACHE|CARMENERE|SYRAH',\n",
    "    'WEISSWEIN': 'WEISS|CHARDONNAY|BLANC|BIANCO|BLANCHE|RIESLING|PINOT GRIGIO|GEWÜRZTRAMINER|VERDEJO|SAUVIGNON|MÜLLER-THURGAU|GRÜNER VELTLINER|ALBARIÑO|TREBBIANO',\n",
    "    'SCHAUMWEIN': 'CHAMPAGNER|PROSECCO|CAVA|CRÉMANT|FRANCIACORTA|SEKT|SCHAUMWEIN|RIMUSS|ASTI|SPUMANTE|MOUSSEUX|BRUT|EXTRA DRY|SECO|SECCO|FRIZZANTE|SPARKLING|MOSCATO',\n",
    "    'ROSÉWEIN': 'ROSÉ|PROVENÇAL ROSÉ|ZINFANDEL ROSÉ|CERASUOLO|ROSATO|BLUSH|VIN GRIS|PINK',\n",
    "    'GLÜHWEIN': 'GLÜHWEIN|PUNSCH|HEISSER|WINTER|GEWÜRZT|MULLED|SPICED WINE'\n",
    "}\n",
    "\n",
    "\n",
    "# Create a new column 'wine_category' initialized with 'UNCATEGORIZED'\n",
    "df['wine_category'] = 'UNCATEGORIZED'\n",
    "\n",
    "# Assign categories based on patterns\n",
    "for category, pattern in patterns.items():\n",
    "    df.loc[df['name_raw'].str.contains(pattern, case=False, na=False), 'wine_category'] = category\n",
    "\n",
    "# Print count of each category\n",
    "print(df['wine_category'].value_counts())\n",
    "\n",
    "# Show the first few rows with the new category column\n",
    "df[['name_raw', 'wine_category']].head()\n",
    "\n",
    "\n"
   ]
  },
  {
   "cell_type": "markdown",
   "metadata": {},
   "source": [
    "### Create new categorical variable based on wine prices"
   ]
  },
  {
   "cell_type": "code",
   "execution_count": 33,
   "metadata": {},
   "outputs": [
    {
     "data": {
      "text/plain": [
       "price_category\n",
       "Mid-Range    280\n",
       "Budget       240\n",
       "Premium       60\n",
       "Name: count, dtype: int64"
      ]
     },
     "execution_count": 33,
     "metadata": {},
     "output_type": "execute_result"
    }
   ],
   "source": [
    "# Define price categories with three levels\n",
    "def categorize_price_3(price):\n",
    "    if price <= 10.00:\n",
    "        return 'Budget'\n",
    "    elif price <= 30.00:\n",
    "        return 'Mid-Range'\n",
    "    else:\n",
    "        return 'Premium'\n",
    "\n",
    "# Apply the function to create a new column\n",
    "df['price_category'] = df['price_raw'].apply(categorize_price_3)\n",
    "\n",
    "# Check the distribution of the categories\n",
    "price_category_distribution = df['price_category'].value_counts()\n",
    "\n",
    "# Display the distribution\n",
    "price_category_distribution\n"
   ]
  },
  {
   "cell_type": "markdown",
   "metadata": {},
   "source": [
    "### Create new numeric variable 'quantity_in_cl'"
   ]
  },
  {
   "cell_type": "code",
   "execution_count": 34,
   "metadata": {},
   "outputs": [
    {
     "name": "stdout",
     "output_type": "stream",
     "text": [
      "  quantity_raw  quantity_in_cl\n",
      "0         75cl              75\n",
      "1         70cl              70\n",
      "2         75cl              75\n",
      "3         75cl              75\n",
      "4         70cl              70\n"
     ]
    }
   ],
   "source": [
    "# Extract the numeric value from the 'quantity' column and convert it to integer\n",
    "df['quantity_in_cl'] = df['quantity_raw'].str.extract(r'(\\d+)').astype(int)\n",
    "\n",
    "# Display the updated DataFrame with the new column\n",
    "print(df[['quantity_raw', 'quantity_in_cl']].head())\n"
   ]
  },
  {
   "cell_type": "markdown",
   "metadata": {},
   "source": [
    "### Create new numeric variable 'price_per_10cl'"
   ]
  },
  {
   "cell_type": "code",
   "execution_count": 35,
   "metadata": {},
   "outputs": [
    {
     "data": {
      "text/html": [
       "<div>\n",
       "<style scoped>\n",
       "    .dataframe tbody tr th:only-of-type {\n",
       "        vertical-align: middle;\n",
       "    }\n",
       "\n",
       "    .dataframe tbody tr th {\n",
       "        vertical-align: top;\n",
       "    }\n",
       "\n",
       "    .dataframe thead th {\n",
       "        text-align: right;\n",
       "    }\n",
       "</style>\n",
       "<table border=\"1\" class=\"dataframe\">\n",
       "  <thead>\n",
       "    <tr style=\"text-align: right;\">\n",
       "      <th></th>\n",
       "      <th>value_raw</th>\n",
       "      <th>price_per_10cl</th>\n",
       "    </tr>\n",
       "  </thead>\n",
       "  <tbody>\n",
       "    <tr>\n",
       "      <th>0</th>\n",
       "      <td>1.59/10cl</td>\n",
       "      <td>1.59</td>\n",
       "    </tr>\n",
       "    <tr>\n",
       "      <th>1</th>\n",
       "      <td>0.60/10cl</td>\n",
       "      <td>0.60</td>\n",
       "    </tr>\n",
       "    <tr>\n",
       "      <th>2</th>\n",
       "      <td>1.69/10cl</td>\n",
       "      <td>1.69</td>\n",
       "    </tr>\n",
       "    <tr>\n",
       "      <th>3</th>\n",
       "      <td>1.46/10cl</td>\n",
       "      <td>1.46</td>\n",
       "    </tr>\n",
       "    <tr>\n",
       "      <th>4</th>\n",
       "      <td>3.21/10cl</td>\n",
       "      <td>3.21</td>\n",
       "    </tr>\n",
       "  </tbody>\n",
       "</table>\n",
       "</div>"
      ],
      "text/plain": [
       "   value_raw  price_per_10cl\n",
       "0  1.59/10cl            1.59\n",
       "1  0.60/10cl            0.60\n",
       "2  1.69/10cl            1.69\n",
       "3  1.46/10cl            1.46\n",
       "4  3.21/10cl            3.21"
      ]
     },
     "execution_count": 35,
     "metadata": {},
     "output_type": "execute_result"
    }
   ],
   "source": [
    "# Extract the numeric value from the 'value' column and convert it to a float\n",
    "df['price_per_10cl'] = df['value_raw'].str.extract(r'([\\d\\.]+)').astype(float)\n",
    "\n",
    "# Display the first few rows to verify\n",
    "df[['value_raw', 'price_per_10cl']].head()"
   ]
  },
  {
   "cell_type": "markdown",
   "metadata": {},
   "source": [
    "### Rename columns"
   ]
  },
  {
   "cell_type": "code",
   "execution_count": 36,
   "metadata": {},
   "outputs": [
    {
     "data": {
      "text/plain": [
       "Index(['web-scraper-order', 'web-scraper-start-url', 'name', 'price',\n",
       "       'country_raw', 'quantity', 'value', 'country', 'name_raw_len', 'bio',\n",
       "       'non_alcoholic', 'premium', 'wine_category', 'price_category',\n",
       "       'quantity_in_cl', 'price_per_10cl'],\n",
       "      dtype='object')"
      ]
     },
     "execution_count": 36,
     "metadata": {},
     "output_type": "execute_result"
    }
   ],
   "source": [
    "# Rename columns in the DataFrame\n",
    "df.rename(columns={\n",
    "    'name_raw': 'name',\n",
    "    'price_raw': 'price',\n",
    "    'quantity_raw': 'quantity',\n",
    "    'value_raw': 'value'\n",
    "}, inplace=True)\n",
    "\n",
    "# Display the updated column names\n",
    "df.columns\n"
   ]
  },
  {
   "cell_type": "markdown",
   "metadata": {},
   "source": [
    "### Country filter"
   ]
  },
  {
   "cell_type": "code",
   "execution_count": 37,
   "metadata": {},
   "outputs": [
    {
     "data": {
      "text/plain": [
       "country\n",
       "Italien        200\n",
       "Schweiz        140\n",
       "Frankreich     120\n",
       "Rimuss          40\n",
       "Spanien         40\n",
       "Portugal        20\n",
       "Deutschland     20\n",
       "Name: count, dtype: int64"
      ]
     },
     "execution_count": 37,
     "metadata": {},
     "output_type": "execute_result"
    }
   ],
   "source": [
    "# Show all unique countries\n",
    "df['country'].unique()\n",
    "\n",
    "#count country values\n",
    "df['country'].value_counts()"
   ]
  },
  {
   "cell_type": "markdown",
   "metadata": {},
   "source": [
    "### Remove rows with Country = Rimuss"
   ]
  },
  {
   "cell_type": "code",
   "execution_count": 38,
   "metadata": {},
   "outputs": [
    {
     "data": {
      "text/plain": [
       "country\n",
       "Italien        200\n",
       "Schweiz        140\n",
       "Frankreich     120\n",
       "Spanien         40\n",
       "Portugal        20\n",
       "Deutschland     20\n",
       "Name: count, dtype: int64"
      ]
     },
     "execution_count": 38,
     "metadata": {},
     "output_type": "execute_result"
    }
   ],
   "source": [
    "# REmove all wines from Rimuss\n",
    "df = df[df['country'] != 'Rimuss']\n",
    "\n",
    "df['country'].value_counts()"
   ]
  },
  {
   "cell_type": "markdown",
   "metadata": {},
   "source": [
    "### Add country code"
   ]
  },
  {
   "cell_type": "code",
   "execution_count": 39,
   "metadata": {},
   "outputs": [
    {
     "data": {
      "text/html": [
       "<div>\n",
       "<style scoped>\n",
       "    .dataframe tbody tr th:only-of-type {\n",
       "        vertical-align: middle;\n",
       "    }\n",
       "\n",
       "    .dataframe tbody tr th {\n",
       "        vertical-align: top;\n",
       "    }\n",
       "\n",
       "    .dataframe thead th {\n",
       "        text-align: right;\n",
       "    }\n",
       "</style>\n",
       "<table border=\"1\" class=\"dataframe\">\n",
       "  <thead>\n",
       "    <tr style=\"text-align: right;\">\n",
       "      <th></th>\n",
       "      <th>country</th>\n",
       "      <th>country_code</th>\n",
       "    </tr>\n",
       "  </thead>\n",
       "  <tbody>\n",
       "    <tr>\n",
       "      <th>0</th>\n",
       "      <td>Italien</td>\n",
       "      <td>IT</td>\n",
       "    </tr>\n",
       "    <tr>\n",
       "      <th>2</th>\n",
       "      <td>Schweiz</td>\n",
       "      <td>CH</td>\n",
       "    </tr>\n",
       "    <tr>\n",
       "      <th>3</th>\n",
       "      <td>Italien</td>\n",
       "      <td>IT</td>\n",
       "    </tr>\n",
       "    <tr>\n",
       "      <th>4</th>\n",
       "      <td>Schweiz</td>\n",
       "      <td>CH</td>\n",
       "    </tr>\n",
       "    <tr>\n",
       "      <th>5</th>\n",
       "      <td>Frankreich</td>\n",
       "      <td>FR</td>\n",
       "    </tr>\n",
       "  </tbody>\n",
       "</table>\n",
       "</div>"
      ],
      "text/plain": [
       "      country country_code\n",
       "0     Italien           IT\n",
       "2     Schweiz           CH\n",
       "3     Italien           IT\n",
       "4     Schweiz           CH\n",
       "5  Frankreich           FR"
      ]
     },
     "execution_count": 39,
     "metadata": {},
     "output_type": "execute_result"
    }
   ],
   "source": [
    "# Create a mapping of country names to country codes\n",
    "country_code_mapping = {\n",
    "    'Italien': 'IT',\n",
    "    'Schweiz': 'CH',\n",
    "    'Frankreich': 'FR',\n",
    "    'Spanien': 'ES',\n",
    "    'Portugal': 'PT',\n",
    "    'Deutschland': 'DE'\n",
    "}\n",
    "\n",
    "# Add a new column for country codes using the mapping\n",
    "df['country_code'] = df['country'].map(country_code_mapping)\n",
    "\n",
    "# Display the updated dataset with country codes\n",
    "df[['country', 'country_code']].head()\n"
   ]
  },
  {
   "cell_type": "markdown",
   "metadata": {},
   "source": [
    "### Save data to file"
   ]
  },
  {
   "cell_type": "code",
   "execution_count": 40,
   "metadata": {},
   "outputs": [],
   "source": [
    "df.to_csv('wine_data_prepared.csv', \n",
    "          sep=\",\", \n",
    "          encoding='utf-8',\n",
    "          index=False)"
   ]
  },
  {
   "cell_type": "markdown",
   "metadata": {},
   "source": [
    "### Jupyter notebook --footer info-- "
   ]
  },
  {
   "cell_type": "code",
   "execution_count": 41,
   "metadata": {},
   "outputs": [
    {
     "name": "stdout",
     "output_type": "stream",
     "text": [
      "-----------------------------------\n",
      "POSIX\n",
      "Linux | 6.5.0-1025-azure\n",
      "Datetime: 2025-01-03 09:55:54\n",
      "Python Version: 3.12.1\n",
      "-----------------------------------\n"
     ]
    }
   ],
   "source": [
    "import os\n",
    "import platform\n",
    "import socket\n",
    "from platform import python_version\n",
    "from datetime import datetime\n",
    "\n",
    "print('-----------------------------------')\n",
    "print(os.name.upper())\n",
    "print(platform.system(), '|', platform.release())\n",
    "print('Datetime:', datetime.now().strftime(\"%Y-%m-%d %H:%M:%S\"))\n",
    "print('Python Version:', python_version())\n",
    "print('-----------------------------------')"
   ]
  }
 ],
 "metadata": {
  "kernelspec": {
   "display_name": "Python 3",
   "language": "python",
   "name": "python3"
  },
  "language_info": {
   "codemirror_mode": {
    "name": "ipython",
    "version": 3
   },
   "file_extension": ".py",
   "mimetype": "text/x-python",
   "name": "python",
   "nbconvert_exporter": "python",
   "pygments_lexer": "ipython3",
   "version": "3.12.1"
  }
 },
 "nbformat": 4,
 "nbformat_minor": 2
}
