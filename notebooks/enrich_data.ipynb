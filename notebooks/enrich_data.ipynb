{
 "cells": [
  {
   "cell_type": "markdown",
   "metadata": {},
   "source": [
    "# Enrich data set"
   ]
  },
  {
   "cell_type": "markdown",
   "metadata": {},
   "source": [
    "## Libraries and settings"
   ]
  },
  {
   "cell_type": "code",
   "execution_count": 158,
   "metadata": {},
   "outputs": [
    {
     "name": "stdout",
     "output_type": "stream",
     "text": [
      "/workspaces/wine_analysis\n"
     ]
    }
   ],
   "source": [
    "# Libraries\n",
    "import os\n",
    "import re\n",
    "import fnmatch\n",
    "import pandas as pd\n",
    "import numpy as np\n",
    "import seaborn as sns\n",
    "import matplotlib.pyplot as plt\n",
    "import statsmodels.api as sm\n",
    "import pylab as py\n",
    "from geopy.geocoders import Nominatim\n",
    "from rapidfuzz import process, fuzz\n",
    "\n",
    "# seaborn graphics settings\n",
    "sns.set(color_codes=True)\n",
    "\n",
    "# Ignore warnings\n",
    "import warnings\n",
    "warnings.filterwarnings(\"ignore\")\n",
    "\n",
    "# Show current working directory\n",
    "print(os.getcwd())"
   ]
  },
  {
   "cell_type": "markdown",
   "metadata": {},
   "source": [
    "## Importing data"
   ]
  },
  {
   "cell_type": "code",
   "execution_count": 159,
   "metadata": {},
   "outputs": [
    {
     "data": {
      "text/html": [
       "<div>\n",
       "<style scoped>\n",
       "    .dataframe tbody tr th:only-of-type {\n",
       "        vertical-align: middle;\n",
       "    }\n",
       "\n",
       "    .dataframe tbody tr th {\n",
       "        vertical-align: top;\n",
       "    }\n",
       "\n",
       "    .dataframe thead th {\n",
       "        text-align: right;\n",
       "    }\n",
       "</style>\n",
       "<table border=\"1\" class=\"dataframe\">\n",
       "  <thead>\n",
       "    <tr style=\"text-align: right;\">\n",
       "      <th></th>\n",
       "      <th>web-scraper-order</th>\n",
       "      <th>web-scraper-start-url</th>\n",
       "      <th>name</th>\n",
       "      <th>price</th>\n",
       "      <th>country_raw</th>\n",
       "      <th>quantity</th>\n",
       "      <th>value</th>\n",
       "      <th>country</th>\n",
       "      <th>name_raw_len</th>\n",
       "      <th>bio</th>\n",
       "      <th>non_alcoholic</th>\n",
       "      <th>premium</th>\n",
       "      <th>wine_category</th>\n",
       "      <th>price_category</th>\n",
       "      <th>quantity_in_cl</th>\n",
       "      <th>price_per_10cl</th>\n",
       "      <th>country_code</th>\n",
       "    </tr>\n",
       "  </thead>\n",
       "  <tbody>\n",
       "    <tr>\n",
       "      <th>0</th>\n",
       "      <td>1734709733-1</td>\n",
       "      <td>https://www.coop.ch/de/weine/alle-weine/c/m_25...</td>\n",
       "      <td>NATURAPLAN BIO-PROSECCO DOC RAPHAEL DAL BO, EX...</td>\n",
       "      <td>11.95</td>\n",
       "      <td>Italien</td>\n",
       "      <td>75cl</td>\n",
       "      <td>1.59/10cl</td>\n",
       "      <td>Italien</td>\n",
       "      <td>53</td>\n",
       "      <td>1</td>\n",
       "      <td>0</td>\n",
       "      <td>0</td>\n",
       "      <td>SCHAUMWEIN</td>\n",
       "      <td>Mid-Range</td>\n",
       "      <td>75</td>\n",
       "      <td>1.59</td>\n",
       "      <td>IT</td>\n",
       "    </tr>\n",
       "    <tr>\n",
       "      <th>1</th>\n",
       "      <td>1734709733-3</td>\n",
       "      <td>https://www.coop.ch/de/weine/alle-weine/c/m_25...</td>\n",
       "      <td>ZÜRICH AOC STAATSSCHREIBER CUVÉE BLANC PRESTIGE</td>\n",
       "      <td>12.70</td>\n",
       "      <td>Schweiz, 2023</td>\n",
       "      <td>75cl</td>\n",
       "      <td>1.69/10cl</td>\n",
       "      <td>Schweiz</td>\n",
       "      <td>47</td>\n",
       "      <td>0</td>\n",
       "      <td>0</td>\n",
       "      <td>1</td>\n",
       "      <td>WEISSWEIN</td>\n",
       "      <td>Mid-Range</td>\n",
       "      <td>75</td>\n",
       "      <td>1.69</td>\n",
       "      <td>CH</td>\n",
       "    </tr>\n",
       "    <tr>\n",
       "      <th>2</th>\n",
       "      <td>1734709733-4</td>\n",
       "      <td>https://www.coop.ch/de/weine/alle-weine/c/m_25...</td>\n",
       "      <td>PROSECCO SUPERIORE DI VALDOBBIADENE CONEGLIANO...</td>\n",
       "      <td>10.95</td>\n",
       "      <td>Italien</td>\n",
       "      <td>75cl</td>\n",
       "      <td>1.46/10cl</td>\n",
       "      <td>Italien</td>\n",
       "      <td>79</td>\n",
       "      <td>0</td>\n",
       "      <td>0</td>\n",
       "      <td>1</td>\n",
       "      <td>SCHAUMWEIN</td>\n",
       "      <td>Mid-Range</td>\n",
       "      <td>75</td>\n",
       "      <td>1.46</td>\n",
       "      <td>IT</td>\n",
       "    </tr>\n",
       "    <tr>\n",
       "      <th>3</th>\n",
       "      <td>1734709733-5</td>\n",
       "      <td>https://www.coop.ch/de/weine/alle-weine/c/m_25...</td>\n",
       "      <td>AIGLE LES MURAILLES CHABLAIS AOC H. BADOUX</td>\n",
       "      <td>22.50</td>\n",
       "      <td>Schweiz, 2023</td>\n",
       "      <td>70cl</td>\n",
       "      <td>3.21/10cl</td>\n",
       "      <td>Schweiz</td>\n",
       "      <td>42</td>\n",
       "      <td>0</td>\n",
       "      <td>0</td>\n",
       "      <td>0</td>\n",
       "      <td>UNCATEGORIZED</td>\n",
       "      <td>Mid-Range</td>\n",
       "      <td>70</td>\n",
       "      <td>3.21</td>\n",
       "      <td>CH</td>\n",
       "    </tr>\n",
       "    <tr>\n",
       "      <th>4</th>\n",
       "      <td>1734709733-6</td>\n",
       "      <td>https://www.coop.ch/de/weine/alle-weine/c/m_25...</td>\n",
       "      <td>CHAMPAGNE AOC CHARLES BERTIN, BRUT</td>\n",
       "      <td>19.50</td>\n",
       "      <td>Frankreich</td>\n",
       "      <td>75cl</td>\n",
       "      <td>2.60/10cl</td>\n",
       "      <td>Frankreich</td>\n",
       "      <td>34</td>\n",
       "      <td>0</td>\n",
       "      <td>0</td>\n",
       "      <td>0</td>\n",
       "      <td>SCHAUMWEIN</td>\n",
       "      <td>Mid-Range</td>\n",
       "      <td>75</td>\n",
       "      <td>2.60</td>\n",
       "      <td>FR</td>\n",
       "    </tr>\n",
       "  </tbody>\n",
       "</table>\n",
       "</div>"
      ],
      "text/plain": [
       "  web-scraper-order                              web-scraper-start-url  \\\n",
       "0      1734709733-1  https://www.coop.ch/de/weine/alle-weine/c/m_25...   \n",
       "1      1734709733-3  https://www.coop.ch/de/weine/alle-weine/c/m_25...   \n",
       "2      1734709733-4  https://www.coop.ch/de/weine/alle-weine/c/m_25...   \n",
       "3      1734709733-5  https://www.coop.ch/de/weine/alle-weine/c/m_25...   \n",
       "4      1734709733-6  https://www.coop.ch/de/weine/alle-weine/c/m_25...   \n",
       "\n",
       "                                                name  price    country_raw  \\\n",
       "0  NATURAPLAN BIO-PROSECCO DOC RAPHAEL DAL BO, EX...  11.95        Italien   \n",
       "1    ZÜRICH AOC STAATSSCHREIBER CUVÉE BLANC PRESTIGE  12.70  Schweiz, 2023   \n",
       "2  PROSECCO SUPERIORE DI VALDOBBIADENE CONEGLIANO...  10.95        Italien   \n",
       "3         AIGLE LES MURAILLES CHABLAIS AOC H. BADOUX  22.50  Schweiz, 2023   \n",
       "4                 CHAMPAGNE AOC CHARLES BERTIN, BRUT  19.50     Frankreich   \n",
       "\n",
       "  quantity      value     country  name_raw_len  bio  non_alcoholic  premium  \\\n",
       "0     75cl  1.59/10cl     Italien            53    1              0        0   \n",
       "1     75cl  1.69/10cl     Schweiz            47    0              0        1   \n",
       "2     75cl  1.46/10cl     Italien            79    0              0        1   \n",
       "3     70cl  3.21/10cl     Schweiz            42    0              0        0   \n",
       "4     75cl  2.60/10cl  Frankreich            34    0              0        0   \n",
       "\n",
       "   wine_category price_category  quantity_in_cl  price_per_10cl country_code  \n",
       "0     SCHAUMWEIN      Mid-Range              75            1.59           IT  \n",
       "1      WEISSWEIN      Mid-Range              75            1.69           CH  \n",
       "2     SCHAUMWEIN      Mid-Range              75            1.46           IT  \n",
       "3  UNCATEGORIZED      Mid-Range              70            3.21           CH  \n",
       "4     SCHAUMWEIN      Mid-Range              75            2.60           FR  "
      ]
     },
     "execution_count": 159,
     "metadata": {},
     "output_type": "execute_result"
    }
   ],
   "source": [
    "# Read the data to a pandas data frame\n",
    "df = pd.read_csv('/workspaces/wine_analysis/data/intermediate/wine_data_prepared.csv', sep=',', encoding='utf-8')\n",
    "\n",
    "# Show first records of data frame\n",
    "df.head()"
   ]
  },
  {
   "cell_type": "markdown",
   "metadata": {},
   "source": [
    "# Enrich Geo Data"
   ]
  },
  {
   "cell_type": "code",
   "execution_count": 160,
   "metadata": {},
   "outputs": [
    {
     "data": {
      "text/plain": [
       "country\n",
       "Italien        200\n",
       "Schweiz        140\n",
       "Frankreich     120\n",
       "Spanien         40\n",
       "Portugal        20\n",
       "Deutschland     20\n",
       "Name: count, dtype: int64"
      ]
     },
     "execution_count": 160,
     "metadata": {},
     "output_type": "execute_result"
    }
   ],
   "source": [
    "# Show all unique countries\n",
    "df['country'].unique()\n",
    "\n",
    "#count country values\n",
    "df['country'].value_counts()"
   ]
  },
  {
   "cell_type": "markdown",
   "metadata": {},
   "source": [
    "### Remove rows with Country = Rimuss"
   ]
  },
  {
   "cell_type": "code",
   "execution_count": 161,
   "metadata": {},
   "outputs": [
    {
     "data": {
      "text/plain": [
       "country\n",
       "Italien        200\n",
       "Schweiz        140\n",
       "Frankreich     120\n",
       "Spanien         40\n",
       "Portugal        20\n",
       "Deutschland     20\n",
       "Name: count, dtype: int64"
      ]
     },
     "execution_count": 161,
     "metadata": {},
     "output_type": "execute_result"
    }
   ],
   "source": [
    "# REmove all wines from Rimuss\n",
    "df = df[df['country'] != 'Rimuss']\n",
    "\n",
    "df['country'].value_counts()"
   ]
  },
  {
   "cell_type": "markdown",
   "metadata": {},
   "source": [
    "### Add country code"
   ]
  },
  {
   "cell_type": "code",
   "execution_count": 162,
   "metadata": {},
   "outputs": [
    {
     "data": {
      "text/html": [
       "<div>\n",
       "<style scoped>\n",
       "    .dataframe tbody tr th:only-of-type {\n",
       "        vertical-align: middle;\n",
       "    }\n",
       "\n",
       "    .dataframe tbody tr th {\n",
       "        vertical-align: top;\n",
       "    }\n",
       "\n",
       "    .dataframe thead th {\n",
       "        text-align: right;\n",
       "    }\n",
       "</style>\n",
       "<table border=\"1\" class=\"dataframe\">\n",
       "  <thead>\n",
       "    <tr style=\"text-align: right;\">\n",
       "      <th></th>\n",
       "      <th>country</th>\n",
       "      <th>country_code</th>\n",
       "    </tr>\n",
       "  </thead>\n",
       "  <tbody>\n",
       "    <tr>\n",
       "      <th>0</th>\n",
       "      <td>Italien</td>\n",
       "      <td>IT</td>\n",
       "    </tr>\n",
       "    <tr>\n",
       "      <th>1</th>\n",
       "      <td>Schweiz</td>\n",
       "      <td>CH</td>\n",
       "    </tr>\n",
       "    <tr>\n",
       "      <th>2</th>\n",
       "      <td>Italien</td>\n",
       "      <td>IT</td>\n",
       "    </tr>\n",
       "    <tr>\n",
       "      <th>3</th>\n",
       "      <td>Schweiz</td>\n",
       "      <td>CH</td>\n",
       "    </tr>\n",
       "    <tr>\n",
       "      <th>4</th>\n",
       "      <td>Frankreich</td>\n",
       "      <td>FR</td>\n",
       "    </tr>\n",
       "  </tbody>\n",
       "</table>\n",
       "</div>"
      ],
      "text/plain": [
       "      country country_code\n",
       "0     Italien           IT\n",
       "1     Schweiz           CH\n",
       "2     Italien           IT\n",
       "3     Schweiz           CH\n",
       "4  Frankreich           FR"
      ]
     },
     "execution_count": 162,
     "metadata": {},
     "output_type": "execute_result"
    }
   ],
   "source": [
    "# Create a mapping of country names to country codes\n",
    "country_code_mapping = {\n",
    "    'Italien': 'IT',\n",
    "    'Schweiz': 'CH',\n",
    "    'Frankreich': 'FR',\n",
    "    'Spanien': 'ES',\n",
    "    'Portugal': 'PT',\n",
    "    'Deutschland': 'DE'\n",
    "}\n",
    "\n",
    "# Add a new column for country codes using the mapping\n",
    "df['country_code'] = df['country'].map(country_code_mapping)\n",
    "\n",
    "# Display the updated dataset with country codes\n",
    "df[['country', 'country_code']].head()\n"
   ]
  },
  {
   "cell_type": "markdown",
   "metadata": {},
   "source": [
    "### Merge dataset with longitude and latitude"
   ]
  },
  {
   "cell_type": "code",
   "execution_count": 163,
   "metadata": {},
   "outputs": [
    {
     "name": "stdout",
     "output_type": "stream",
     "text": [
      "Geo data added.\n"
     ]
    }
   ],
   "source": [
    "# Load the country coordinates data\n",
    "coordinates_path = '/workspaces/wine_analysis/data/raw/country_longitude_latitude.csv'\n",
    "coordinates = pd.read_csv(coordinates_path, sep=',', encoding='utf-8')[['country_code', 'latitude', 'longitude']]\n",
    "\n",
    "# Merge the datasets on 'country_code'\n",
    "df = pd.merge(df, coordinates, on='country_code', how='left')\n",
    "print(\"Geo data added.\")\n"
   ]
  },
  {
   "cell_type": "markdown",
   "metadata": {},
   "source": [
    "## Consumption data"
   ]
  },
  {
   "cell_type": "markdown",
   "metadata": {},
   "source": [
    "### Filter CSV to only 2019 data, change country code, merge with consumption CSV"
   ]
  },
  {
   "cell_type": "code",
   "execution_count": 169,
   "metadata": {},
   "outputs": [
    {
     "name": "stdout",
     "output_type": "stream",
     "text": [
      "Consumption data added.\n"
     ]
    }
   ],
   "source": [
    "# Load the wine consumption data\n",
    "consumption_path = '/workspaces/wine_analysis/data/raw/wine_consumption_country.csv'\n",
    "consumption_data = pd.read_csv(consumption_path, sep=',', encoding='utf-8')\n",
    "\n",
    "# Map two-letter to three-letter country codes\n",
    "iso_mapping = {\n",
    "    \"CH\": \"CHE\", \"CN\": \"CHN\", \"CL\": \"CHL\", \"ES\": \"ESP\",\n",
    "    \"EE\": \"EST\", \"FR\": \"FRA\", \"DE\": \"DEU\", \"IT\": \"ITA\", \"PT\": \"PRT\"\n",
    "}\n",
    "df['country_code'] = df['country_code'].map(iso_mapping)\n",
    "\n",
    "# Filter the consumption data for the year 2019 and merge\n",
    "consumption_2019 = consumption_data[consumption_data['Year'] == 2019]\n",
    "df = pd.merge(df, consumption_2019, left_on='country_code', right_on='Code', how='left')\n",
    "\n",
    "# Drop unnecessary columns and rename for clarity\n",
    "df = df.drop(columns=['Year', 'Entity', 'Code'], errors='ignore')\n",
    "df = df.rename(columns={'Consumption': 'consumption_in_l'})\n",
    "print(\"Consumption data added.\")\n"
   ]
  },
  {
   "cell_type": "markdown",
   "metadata": {},
   "source": [
    "### Save data to file"
   ]
  },
  {
   "cell_type": "code",
   "execution_count": 170,
   "metadata": {},
   "outputs": [
    {
     "name": "stdout",
     "output_type": "stream",
     "text": [
      "Fully enriched dataset saved at: /workspaces/wine_analysis/data/enriched/wine_data_enriched.csv\n"
     ]
    }
   ],
   "source": [
    "# Save the fully enriched dataset\n",
    "final_output_path = '/workspaces/wine_analysis/data/enriched/wine_data_enriched.csv'\n",
    "df.to_csv(final_output_path, sep=',', index=False, encoding='utf-8')\n",
    "print(f\"Fully enriched dataset saved at: {final_output_path}\")\n"
   ]
  },
  {
   "cell_type": "markdown",
   "metadata": {},
   "source": [
    "## Alcohol percentage"
   ]
  },
  {
   "cell_type": "code",
   "execution_count": 166,
   "metadata": {},
   "outputs": [
    {
     "name": "stdout",
     "output_type": "stream",
     "text": [
      "Cleaned dataset saved at: /workspaces/wine_analysis/data/intermediate/cleaned_wine_info.csv\n"
     ]
    }
   ],
   "source": [
    "# Load the new dataset\n",
    "file_path = '/workspaces/wine_analysis/data/raw/wine_info.csv'\n",
    "wine_info = pd.read_csv(file_path)\n",
    "\n",
    "# Keep only the relevant columns\n",
    "relevant_columns = ['name', 'nation', 'abv']\n",
    "wine_info = wine_info[relevant_columns]\n",
    "\n",
    "# Remove non-Latin characters from the 'nation' column\n",
    "def clean_text(text):\n",
    "    if isinstance(text, str):\n",
    "        return re.sub(r'[^\\x00-\\x7F]+', '', text).strip()\n",
    "    return text\n",
    "\n",
    "wine_info['nation'] = wine_info['nation'].apply(clean_text)\n",
    "\n",
    "# Clean the 'abv' column: Extract the first number if it's a range\n",
    "def clean_abv(abv_value):\n",
    "    if isinstance(abv_value, str):\n",
    "        # Extract the first number before a \"~\" or any other separator\n",
    "        match = re.search(r'\\d+', abv_value)\n",
    "        if match:\n",
    "            return int(match.group(0))  # Convert to integer\n",
    "    return None  # Return None if no valid number is found\n",
    "\n",
    "wine_info['abv'] = wine_info['abv'].apply(clean_abv)\n",
    "\n",
    "\n",
    "# Ensure the 'abv' column is of type integer\n",
    "wine_info['abv'] = wine_info['abv'].astype('Int64')  # Use 'Int64' for nullable integers\n",
    "\n",
    "# Drop rows with missing ABV\n",
    "wine_info = wine_info.dropna(subset=['abv'])\n",
    "\n",
    "# Filter only the desired countries\n",
    "allowed_countries = ['Italy', 'Switzerland', 'France', 'Spain', 'Portugal', 'Germany']\n",
    "wine_info = wine_info[wine_info['nation'].isin(allowed_countries)]\n",
    "\n",
    "# Manual mapping of countries to their 3-letter codes\n",
    "country_code_mapping = {\n",
    "    'Italy': 'ITA',\n",
    "    'Switzerland': 'CHE',\n",
    "    'France': 'FRA',\n",
    "    'Spain': 'ESP',\n",
    "    'Portugal': 'PRT',\n",
    "    'Germany': 'DEU'\n",
    "}\n",
    "\n",
    "# Add the 3-letter country codes based on the mapping\n",
    "wine_info['country_code'] = wine_info['nation'].map(country_code_mapping)\n",
    "\n",
    "# Save the cleaned dataset\n",
    "output_file_path = '/workspaces/wine_analysis/data/intermediate/cleaned_wine_info.csv'\n",
    "wine_info.to_csv(output_file_path, index=False, encoding='utf-8')\n",
    "\n",
    "print(f\"Cleaned dataset saved at: {output_file_path}\")\n"
   ]
  },
  {
   "cell_type": "markdown",
   "metadata": {},
   "source": [
    "### Match Data "
   ]
  },
  {
   "cell_type": "code",
   "execution_count": 167,
   "metadata": {},
   "outputs": [
    {
     "name": "stdout",
     "output_type": "stream",
     "text": [
      "\n",
      "Number of matches found: 300\n",
      "Sample matches with ABV:\n",
      "                                  Prepared_Wine_Name  \\\n",
      "0  prosecco superiore di valdobbiadene conegliano...   \n",
      "1                 champagne aoc charles bertin, brut   \n",
      "2             prosecco doc vigne dei dogi, extra dry   \n",
      "3               blu secco dose vino frizzante 6x20cl   \n",
      "4                   toscana igt rosso villa antinori   \n",
      "\n",
      "                              Matched_Wine_Info_Name  Similarity_Score  ABV  \n",
      "0  sommariva, conegliano valdobbiadene prosecco s...         89.523810   11  \n",
      "1                               angel champagne brut         82.352941   12  \n",
      "2                        ruffino, prosecco extra dry         80.000000   11  \n",
      "3                         canei, vino frizzante rose         70.000000    8  \n",
      "4                                      villa m rosso         91.666667    5  \n"
     ]
    }
   ],
   "source": [
    "# Load the datasets  \n",
    "prepared_wine_data = pd.read_csv('/workspaces/wine_analysis/data/enriched/wine_data_enriched.csv')\n",
    "cleaned_wine_info = pd.read_csv('/workspaces/wine_analysis/data/intermediate/cleaned_wine_info.csv')\n",
    "\n",
    "# Extract and clean the wine names\n",
    "prepared_names = prepared_wine_data['name'].str.strip().str.lower()\n",
    "cleaned_names = cleaned_wine_info['name'].str.strip().str.lower()\n",
    "\n",
    "# Set a similarity threshold\n",
    "threshold = 70\n",
    "\n",
    "# Find matches for all names\n",
    "matches = []\n",
    "for name in prepared_names:\n",
    "    result = process.extractOne(name, cleaned_names, scorer=fuzz.token_set_ratio)\n",
    "    if result is not None and result[1] >= threshold:\n",
    "        matched_name = result[0]\n",
    "        similarity_score = result[1]\n",
    "        \n",
    "        # Retrieve `abv` safely\n",
    "        matched_rows = cleaned_wine_info[cleaned_wine_info['name'].str.strip().str.lower() == matched_name]\n",
    "        abv = matched_rows['abv'].iloc[0] if not matched_rows.empty else None\n",
    "        \n",
    "        matches.append((name, matched_name, similarity_score, abv))\n",
    "\n",
    "# Convert the results into a DataFrame\n",
    "matches_df = pd.DataFrame(matches, columns=['Prepared_Wine_Name', 'Matched_Wine_Info_Name', 'Similarity_Score', 'ABV'])\n",
    "\n",
    "# Drop rows with missing ABV\n",
    "matches_df = matches_df.dropna(subset=['ABV'])\n",
    "\n",
    "# Convert ABV to integer\n",
    "matches_df['ABV'] = matches_df['ABV'].astype(int)\n",
    "\n",
    "# Save the results to a new file\n",
    "output_file_path = '/workspaces/wine_analysis/data/intermediate/matched_wines.csv'\n",
    "matches_df.to_csv(output_file_path, index=False, encoding='utf-8')\n",
    "\n",
    "print(f\"\\nNumber of matches found: {len(matches_df)}\")\n",
    "print(\"Sample matches with ABV:\")\n",
    "print(matches_df.head())\n"
   ]
  },
  {
   "cell_type": "markdown",
   "metadata": {},
   "source": [
    "### Create seperate CSV: wines_with_abv.csv"
   ]
  },
  {
   "cell_type": "code",
   "execution_count": 168,
   "metadata": {},
   "outputs": [
    {
     "name": "stdout",
     "output_type": "stream",
     "text": [
      "File with valid alcohol content saved at: /workspaces/wine_analysis/data/enriched/wines_with_abv.csv\n"
     ]
    }
   ],
   "source": [
    "# Load the necessary files\n",
    "prepared_wine_data = pd.read_csv('/workspaces/wine_analysis/data/enriched/wine_data_enriched.csv')\n",
    "matches_df = pd.read_csv('/workspaces/wine_analysis/data/intermediate/matched_wines.csv')\n",
    "\n",
    "# Check for Null ABV values and drop them\n",
    "matches_df = matches_df.dropna(subset=['ABV'])\n",
    "\n",
    "# Standardize the formatting of the names in both DataFrames\n",
    "prepared_wine_data['name'] = prepared_wine_data['name'].str.strip().str.lower()\n",
    "matches_df['Prepared_Wine_Name'] = matches_df['Prepared_Wine_Name'].str.strip().str.lower()\n",
    "\n",
    "# Deduplicate matches_df to ensure unique wine matches\n",
    "matches_df = matches_df.drop_duplicates(subset=['Prepared_Wine_Name'])\n",
    "\n",
    "# Filter `prepared_wine_data` to include only wines with matches\n",
    "filtered_prepared_wine_data = prepared_wine_data[\n",
    "    prepared_wine_data['name'].isin(matches_df['Prepared_Wine_Name'])\n",
    "]\n",
    "\n",
    "# Merge with `matches_df` to include `ABV`\n",
    "filtered_with_abv = filtered_prepared_wine_data.merge(\n",
    "    matches_df[['Prepared_Wine_Name', 'ABV']],  # Include only necessary columns\n",
    "    left_on='name',\n",
    "    right_on='Prepared_Wine_Name',\n",
    "    how='inner'  # Use 'inner' to exclude rows without matches\n",
    ")\n",
    "\n",
    "# Drop unnecessary columns and ensure ABV is properly formatted\n",
    "filtered_with_abv = filtered_with_abv.drop(columns=['Prepared_Wine_Name'])\n",
    "filtered_with_abv['ABV'] = pd.to_numeric(filtered_with_abv['ABV'], errors='coerce').astype(float)  # Convert ABV to float\n",
    "\n",
    "# Remove duplicates from the final DataFrame\n",
    "filtered_with_abv = filtered_with_abv.drop_duplicates()\n",
    "\n",
    "# Save the resulting dataset\n",
    "output_file_path = '/workspaces/wine_analysis/data/enriched/wines_with_abv.csv'\n",
    "filtered_with_abv.to_csv(output_file_path, index=False, encoding='utf-8')\n",
    "\n",
    "print(f\"File with valid alcohol content saved at: {output_file_path}\")\n"
   ]
  }
 ],
 "metadata": {
  "kernelspec": {
   "display_name": "Python 3",
   "language": "python",
   "name": "python3"
  },
  "language_info": {
   "codemirror_mode": {
    "name": "ipython",
    "version": 3
   },
   "file_extension": ".py",
   "mimetype": "text/x-python",
   "name": "python",
   "nbconvert_exporter": "python",
   "pygments_lexer": "ipython3",
   "version": "3.12.1"
  }
 },
 "nbformat": 4,
 "nbformat_minor": 2
}
