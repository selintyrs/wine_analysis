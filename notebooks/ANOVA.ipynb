{
 "cells": [
  {
   "cell_type": "markdown",
   "metadata": {},
   "source": [
    "# ANOVA"
   ]
  },
  {
   "cell_type": "markdown",
   "metadata": {},
   "source": [
    "## Libraries and settings"
   ]
  },
  {
   "cell_type": "code",
   "execution_count": 11,
   "metadata": {},
   "outputs": [
    {
     "name": "stdout",
     "output_type": "stream",
     "text": [
      "Current working directory: /workspaces/wine_analysis/notebooks\n"
     ]
    }
   ],
   "source": [
    "# Libraries\n",
    "import os\n",
    "import pandas as pd\n",
    "import matplotlib.pyplot as plt\n",
    "import seaborn as sns\n",
    "import numpy as np\n",
    "import scipy.stats as stats\n",
    "from statsmodels.stats.multicomp import pairwise_tukeyhsd\n",
    "\n",
    "\n",
    "# Settings for seaborn\n",
    "sns.set_theme(style=\"ticks\", palette=\"pastel\")\n",
    "\n",
    "# Ignore warnings\n",
    "import warnings\n",
    "warnings.filterwarnings(\"ignore\")\n",
    "\n",
    "# Get current working directory\n",
    "print('Current working directory:', os.getcwd())"
   ]
  },
  {
   "cell_type": "markdown",
   "metadata": {},
   "source": [
    "### Importing wine data"
   ]
  },
  {
   "cell_type": "code",
   "execution_count": 12,
   "metadata": {},
   "outputs": [],
   "source": [
    "# Read and select variables\n",
    "df_orig = pd.read_csv(\"/workspaces/wine_analysis/data/enriched/wines_with_abv.csv\")[['web-scraper-order',\n",
    "                                                        'name',\n",
    "                                                        'price',\n",
    "                                                        'country',\n",
    "                                                        'quantity',\n",
    "                                                        'value',\n",
    "                                                        'bio', \n",
    "                                                        'non_alcoholic', \n",
    "                                                        'premium', \n",
    "                                                        'wine_category', \n",
    "                                                        'price_category',\n",
    "                                                        'price_per_10cl',\n",
    "                                                        'quantity_in_cl',\n",
    "                                                        'country_code',\n",
    "                                                        'ABV',\n",
    "                                                        ]]\n",
    "\n",
    "# Remove duplicates\n",
    "df_orig = df_orig.drop_duplicates()\n",
    "df_orig.head(5)\n",
    "\n",
    "# Remove missing values\n",
    "df_orig = df_orig.dropna()\n",
    "df_orig.head(5)\n",
    "\n",
    "# Rename variable 'web-scraper-order' to 'wine_id'\n",
    "df_orig = df_orig.rename(columns={'web-scraper-order': 'wine_id'})\n"
   ]
  },
  {
   "cell_type": "markdown",
   "metadata": {},
   "source": [
    "### One-way ANOVA test price_per_10cl"
   ]
  },
  {
   "cell_type": "code",
   "execution_count": 15,
   "metadata": {},
   "outputs": [
    {
     "name": "stdout",
     "output_type": "stream",
     "text": [
      "F-statistic: 6.486736193729932\n",
      "P-value: 5.143536203257172e-05\n",
      "There is a significant difference between the groups.\n"
     ]
    }
   ],
   "source": [
    "# Example: Group data by 'wine_category' and analyze 'price_per_10cl'\n",
    "dependent_var = 'price_per_10cl'  # Replace with the variable you want to analyze\n",
    "independent_var = 'wine_category'\n",
    "\n",
    "# Check groups\n",
    "groups = [group[dependent_var].values for name, group in df_orig.groupby(independent_var)]\n",
    "\n",
    "# Perform ANOVA\n",
    "f_stat, p_value = stats.f_oneway(*groups)\n",
    "print(f\"F-statistic: {f_stat}\")\n",
    "print(f\"P-value: {p_value}\")\n",
    "\n",
    "# Interpret the result\n",
    "if p_value < 0.05:\n",
    "    print(\"There is a significant difference between the groups.\")\n",
    "else:\n",
    "    print(\"No significant difference between the groups.\")"
   ]
  },
  {
   "cell_type": "markdown",
   "metadata": {},
   "source": [
    "### Tukey HSD Post-Hoc Test"
   ]
  },
  {
   "cell_type": "code",
   "execution_count": 14,
   "metadata": {},
   "outputs": [
    {
     "name": "stdout",
     "output_type": "stream",
     "text": [
      "       Multiple Comparison of Means - Tukey HSD, FWER=0.05       \n",
      "=================================================================\n",
      "    group1        group2    meandiff p-adj   lower  upper  reject\n",
      "-----------------------------------------------------------------\n",
      "     GLÜHWEIN       ROTWEIN    0.815 0.0414  0.0201 1.6099   True\n",
      "     GLÜHWEIN    SCHAUMWEIN   0.9686 0.0015  0.2747 1.6624   True\n",
      "     GLÜHWEIN UNCATEGORIZED   1.3433    0.0  0.5939 2.0928   True\n",
      "     GLÜHWEIN     WEISSWEIN     1.12 0.0013  0.3251 1.9149   True\n",
      "      ROTWEIN    SCHAUMWEIN   0.1536 0.9274 -0.3668  0.674  False\n",
      "      ROTWEIN UNCATEGORIZED   0.5283 0.1058 -0.0642 1.1208  False\n",
      "      ROTWEIN     WEISSWEIN    0.305 0.6977 -0.3441 0.9541  False\n",
      "   SCHAUMWEIN UNCATEGORIZED   0.3748 0.1489 -0.0731 0.8227  False\n",
      "   SCHAUMWEIN     WEISSWEIN   0.1514 0.9308  -0.369 0.6718  False\n",
      "UNCATEGORIZED     WEISSWEIN  -0.2233 0.8392 -0.8158 0.3692  False\n",
      "-----------------------------------------------------------------\n"
     ]
    },
    {
     "data": {
      "image/png": "[encoded data removed]",
      "text/plain": [
       "<Figure size 1000x600 with 1 Axes>"
      ]
     },
     "metadata": {},
     "output_type": "display_data"
    }
   ],
   "source": [
    "# Perform Tukey HSD test\n",
    "tukey = pairwise_tukeyhsd(endog=df[dependent_var], groups=df[independent_var], alpha=0.05)\n",
    "\n",
    "# Print Tukey HSD results\n",
    "print(tukey)\n",
    "\n",
    "# Plot the results\n",
    "tukey.plot_simultaneous()\n",
    "plt.title('Tukey HSD Test')\n",
    "plt.show()"
   ]
  },
  {
   "cell_type": "markdown",
   "metadata": {},
   "source": [
    "ANOVA: There is a significant difference in price_per_10cl between wine categories (p < 0.05).\n",
    "\n",
    "Tukey HSD: Glühwein significantly differs from other wine types in price_per_10cl. Others show no major differences."
   ]
  },
  {
   "cell_type": "markdown",
   "metadata": {},
   "source": [
    "### One-way ANOVA test ABV"
   ]
  },
  {
   "cell_type": "code",
   "execution_count": 16,
   "metadata": {},
   "outputs": [
    {
     "name": "stdout",
     "output_type": "stream",
     "text": [
      "F-statistic: 31.601781170483456\n",
      "P-value: 6.46828435575641e-22\n",
      "There is a significant difference between the groups for ABV.\n"
     ]
    }
   ],
   "source": [
    "# Example: Group data by 'wine_category' and analyze 'ABV'\n",
    "dependent_var = 'ABV'  # Replace with the new variable you want to analyze\n",
    "independent_var = 'wine_category'\n",
    "\n",
    "# Check groups\n",
    "groups = [group[dependent_var].values for name, group in df.groupby(independent_var)]\n",
    "\n",
    "# Perform ANOVA\n",
    "f_stat, p_value = stats.f_oneway(*groups)\n",
    "print(f\"F-statistic: {f_stat}\")\n",
    "print(f\"P-value: {p_value}\")\n",
    "\n",
    "# Interpret the result\n",
    "if p_value < 0.05:\n",
    "    print(\"There is a significant difference between the groups for ABV.\")\n",
    "else:\n",
    "    print(\"No significant difference between the groups for ABV.\")\n"
   ]
  },
  {
   "cell_type": "markdown",
   "metadata": {},
   "source": [
    "There is a significant difference in ABV among the wine categories. This means at least one wine category differs significantly in its alcohol content (ABV) compared to others.\n"
   ]
  },
  {
   "cell_type": "markdown",
   "metadata": {},
   "source": [
    "### Tukey HSD Post-Hoc Test"
   ]
  },
  {
   "cell_type": "code",
   "execution_count": 17,
   "metadata": {},
   "outputs": [
    {
     "name": "stdout",
     "output_type": "stream",
     "text": [
      "       Multiple Comparison of Means - Tukey HSD, FWER=0.05        \n",
      "==================================================================\n",
      "    group1        group2    meandiff p-adj   lower   upper  reject\n",
      "------------------------------------------------------------------\n",
      "     GLÜHWEIN       ROTWEIN     -4.0    0.0 -5.6934 -2.3066   True\n",
      "     GLÜHWEIN    SCHAUMWEIN  -2.1429 0.0008 -3.6209 -0.6648   True\n",
      "     GLÜHWEIN UNCATEGORIZED      0.0    1.0 -1.5965  1.5965  False\n",
      "     GLÜHWEIN     WEISSWEIN     -4.0    0.0 -5.6934 -2.3066   True\n",
      "      ROTWEIN    SCHAUMWEIN   1.8571 0.0001  0.7486  2.9657   True\n",
      "      ROTWEIN UNCATEGORIZED      4.0    0.0  2.7378  5.2622   True\n",
      "      ROTWEIN     WEISSWEIN      0.0    1.0 -1.3826  1.3826  False\n",
      "   SCHAUMWEIN UNCATEGORIZED   2.1429    0.0  1.1888   3.097   True\n",
      "   SCHAUMWEIN     WEISSWEIN  -1.8571 0.0001 -2.9657 -0.7486   True\n",
      "UNCATEGORIZED     WEISSWEIN     -4.0    0.0 -5.2622 -2.7378   True\n",
      "------------------------------------------------------------------\n"
     ]
    },
    {
     "data": {
      "image/png": "[encoded data removed]",
      "text/plain": [
       "<Figure size 1000x600 with 1 Axes>"
      ]
     },
     "metadata": {},
     "output_type": "display_data"
    }
   ],
   "source": [
    "# Perform Tukey HSD test\n",
    "tukey = pairwise_tukeyhsd(endog=df[dependent_var], groups=df[independent_var], alpha=0.05)\n",
    "\n",
    "# Print Tukey HSD results\n",
    "print(tukey)\n",
    "\n",
    "# Plot the results\n",
    "tukey.plot_simultaneous()\n",
    "plt.title('Tukey HSD Test for ABV')\n",
    "plt.show()\n"
   ]
  },
  {
   "cell_type": "markdown",
   "metadata": {},
   "source": [
    "Glühwein differs significantly from all other categories (Rotwein, Schaumwein, Uncategorized, and Weisswein).\n",
    "Rotwein significantly differs from Schaumwein and Uncategorized.\n",
    "Schaumwein significantly differs from Weisswein and Uncategorized."
   ]
  }
 ],
 "metadata": {
  "kernelspec": {
   "display_name": "Python 3",
   "language": "python",
   "name": "python3"
  },
  "language_info": {
   "codemirror_mode": {
    "name": "ipython",
    "version": 3
   },
   "file_extension": ".py",
   "mimetype": "text/x-python",
   "name": "python",
   "nbconvert_exporter": "python",
   "pygments_lexer": "ipython3",
   "version": "3.12.1"
  }
 },
 "nbformat": 4,
 "nbformat_minor": 2
}
